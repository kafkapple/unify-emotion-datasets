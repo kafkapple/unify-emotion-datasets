{
 "cells": [
  {
   "cell_type": "code",
   "execution_count": 6,
   "metadata": {},
   "outputs": [
    {
     "name": "stdout",
     "output_type": "stream",
     "text": [
      "[{'id': 0, 'VAD': {'valence': None, 'arousal': None, 'dominance': None}, 'source': 'emotion-cause', 'text': 'This did the trick : the boys now have a more distant friendship and David is much happier . ', 'emotions': {'joy': 1, 'anger': 0, 'sadness': 0, 'disgust': 0, 'fear': 0, 'trust': None, 'surprise': 0, 'love': None, 'noemo': None, 'confusion': None, 'anticipation': None, 'shame': None, 'guilt': None}, 'split': None, 'domain': 'artificial_sentences', 'labeled': 'single'}, {'id': 1, 'VAD': {'valence': None, 'arousal': None, 'dominance': None}, 'source': 'emotion-cause', 'text': 'When Anna left Inspector Aziz , she was much happier . ', 'emotions': {'joy': 1, 'anger': 0, 'sadness': 0, 'disgust': 0, 'fear': 0, 'trust': None, 'surprise': 0, 'love': None, 'noemo': None, 'confusion': None, 'anticipation': None, 'shame': None, 'guilt': None}, 'split': None, 'domain': 'artificial_sentences', 'labeled': 'single'}, {'id': 2, 'VAD': {'valence': None, 'arousal': None, 'dominance': None}, 'source': 'emotion-cause', 'text': \"And though , as Lachlan had planned , they had expected the attack in the morning , they were quite happy when their lookouts reported the Macleans ' approach in the early evening . \", 'emotions': {'joy': 1, 'anger': 0, 'sadness': 0, 'disgust': 0, 'fear': 0, 'trust': None, 'surprise': 0, 'love': None, 'noemo': None, 'confusion': None, 'anticipation': None, 'shame': None, 'guilt': None}, 'split': None, 'domain': 'artificial_sentences', 'labeled': 'single'}]\n"
     ]
    }
   ],
   "source": [
    "import json\n",
    "\n",
    "file_path = \"unified-dataset.jsonl\"\n",
    "\n",
    "# Stream JSONL file\n",
    "with open(file_path, \"r\", encoding=\"utf-8\") as f:\n",
    "    data = (json.loads(line) for line in f)\n",
    "    first_three = [next(data) for _ in range(3)]\n",
    "\n",
    "# Process first 3 lines as example\n",
    "print(first_three)\n"
   ]
  },
  {
   "cell_type": "code",
   "execution_count": 8,
   "metadata": {},
   "outputs": [
    {
     "data": {
      "text/plain": [
       "generator"
      ]
     },
     "execution_count": 8,
     "metadata": {},
     "output_type": "execute_result"
    }
   ],
   "source": [
    "type(data)"
   ]
  },
  {
   "cell_type": "code",
   "execution_count": 7,
   "metadata": {},
   "outputs": [
    {
     "name": "stdout",
     "output_type": "stream",
     "text": [
      "[{'VAD': {'arousal': None, 'dominance': None, 'valence': None},\n",
      "  'domain': 'artificial_sentences',\n",
      "  'emotions': {'anger': 0,\n",
      "               'anticipation': None,\n",
      "               'confusion': None,\n",
      "               'disgust': 0,\n",
      "               'fear': 0,\n",
      "               'guilt': None,\n",
      "               'joy': 1,\n",
      "               'love': None,\n",
      "               'noemo': None,\n",
      "               'sadness': 0,\n",
      "               'shame': None,\n",
      "               'surprise': 0,\n",
      "               'trust': None},\n",
      "  'id': 0,\n",
      "  'labeled': 'single',\n",
      "  'source': 'emotion-cause',\n",
      "  'split': None,\n",
      "  'text': 'This did the trick : the boys now have a more distant friendship and David is much happier . '},\n",
      " {'VAD': {'arousal': None, 'dominance': None, 'valence': None},\n",
      "  'domain': 'artificial_sentences',\n",
      "  'emotions': {'anger': 0,\n",
      "               'anticipation': None,\n",
      "               'confusion': None,\n",
      "               'disgust': 0,\n",
      "               'fear': 0,\n",
      "               'guilt': None,\n",
      "               'joy': 1,\n",
      "               'love': None,\n",
      "               'noemo': None,\n",
      "               'sadness': 0,\n",
      "               'shame': None,\n",
      "               'surprise': 0,\n",
      "               'trust': None},\n",
      "  'id': 1,\n",
      "  'labeled': 'single',\n",
      "  'source': 'emotion-cause',\n",
      "  'split': None,\n",
      "  'text': 'When Anna left Inspector Aziz , she was much happier . '},\n",
      " {'VAD': {'arousal': None, 'dominance': None, 'valence': None},\n",
      "  'domain': 'artificial_sentences',\n",
      "  'emotions': {'anger': 0,\n",
      "               'anticipation': None,\n",
      "               'confusion': None,\n",
      "               'disgust': 0,\n",
      "               'fear': 0,\n",
      "               'guilt': None,\n",
      "               'joy': 1,\n",
      "               'love': None,\n",
      "               'noemo': None,\n",
      "               'sadness': 0,\n",
      "               'shame': None,\n",
      "               'surprise': 0,\n",
      "               'trust': None},\n",
      "  'id': 2,\n",
      "  'labeled': 'single',\n",
      "  'source': 'emotion-cause',\n",
      "  'split': None,\n",
      "  'text': 'And though , as Lachlan had planned , they had expected the attack in the morning , they were quite happy '\n",
      "          \"when their lookouts reported the Macleans ' approach in the early evening . \"}]\n"
     ]
    }
   ],
   "source": [
    "import json\n",
    "import pprint\n",
    "\n",
    "\n",
    "\n",
    "# ✅ Pretty print JSON data\n",
    "pp = pprint.PrettyPrinter(width=120, compact=False)  # width 조정 가능\n",
    "pp.pprint(first_three)"
   ]
  },
  {
   "cell_type": "code",
   "execution_count": 3,
   "metadata": {},
   "outputs": [
    {
     "name": "stdout",
     "output_type": "stream",
     "text": [
      "[{'VAD': {'arousal': None, 'dominance': None, 'valence': None},\n",
      "  'domain': 'artificial_sentences',\n",
      "  'emotions': {'anger': 0,\n",
      "               'anticipation': None,\n",
      "               'confusion': None,\n",
      "               'disgust': 0,\n",
      "               'fear': 0,\n",
      "               'guilt': None,\n",
      "               'joy': 1,\n",
      "               'love': None,\n",
      "               'noemo': None,\n",
      "               'sadness': 0,\n",
      "               'shame': None,\n",
      "               'surprise': 0,\n",
      "               'trust': None},\n",
      "  'id': 0,\n",
      "  'labeled': 'single',\n",
      "  'source': 'emotion-cause',\n",
      "  'split': None,\n",
      "  'text': 'This did the trick : the boys now have a more distant friendship '\n",
      "          'and David is much happier . '},\n",
      " {'VAD': {'arousal': None, 'dominance': None, 'valence': None},\n",
      "  'domain': 'artificial_sentences',\n",
      "  'emotions': {'anger': 0,\n",
      "               'anticipation': None,\n",
      "               'confusion': None,\n",
      "               'disgust': 0,\n",
      "               'fear': 0,\n",
      "               'guilt': None,\n",
      "               'joy': 1,\n",
      "               'love': None,\n",
      "               'noemo': None,\n",
      "               'sadness': 0,\n",
      "               'shame': None,\n",
      "               'surprise': 0,\n",
      "               'trust': None},\n",
      "  'id': 1,\n",
      "  'labeled': 'single',\n",
      "  'source': 'emotion-cause',\n",
      "  'split': None,\n",
      "  'text': 'When Anna left Inspector Aziz , she was much happier . '},\n",
      " {'VAD': {'arousal': None, 'dominance': None, 'valence': None},\n",
      "  'domain': 'artificial_sentences',\n",
      "  'emotions': {'anger': 0,\n",
      "               'anticipation': None,\n",
      "               'confusion': None,\n",
      "               'disgust': 0,\n",
      "               'fear': 0,\n",
      "               'guilt': None,\n",
      "               'joy': 1,\n",
      "               'love': None,\n",
      "               'noemo': None,\n",
      "               'sadness': 0,\n",
      "               'shame': None,\n",
      "               'surprise': 0,\n",
      "               'trust': None},\n",
      "  'id': 2,\n",
      "  'labeled': 'single',\n",
      "  'source': 'emotion-cause',\n",
      "  'split': None,\n",
      "  'text': 'And though , as Lachlan had planned , they had expected the attack '\n",
      "          'in the morning , they were quite happy when their lookouts reported '\n",
      "          \"the Macleans ' approach in the early evening . \"}]\n"
     ]
    }
   ],
   "source": [
    "import pprint\n",
    "pprint.pprint(first_three)"
   ]
  },
  {
   "cell_type": "code",
   "execution_count": 4,
   "metadata": {},
   "outputs": [
    {
     "ename": "TypeError",
     "evalue": "'generator' object is not subscriptable",
     "output_type": "error",
     "traceback": [
      "\u001b[0;31m---------------------------------------------------------------------------\u001b[0m",
      "\u001b[0;31mTypeError\u001b[0m                                 Traceback (most recent call last)",
      "Cell \u001b[0;32mIn[4], line 1\u001b[0m\n\u001b[0;32m----> 1\u001b[0m \u001b[38;5;28mprint\u001b[39m(json\u001b[38;5;241m.\u001b[39mdumps(\u001b[43mdata\u001b[49m\u001b[43m[\u001b[49m\u001b[43m:\u001b[49m\u001b[38;5;241;43m3\u001b[39;49m\u001b[43m]\u001b[49m, indent\u001b[38;5;241m=\u001b[39m\u001b[38;5;241m4\u001b[39m, ensure_ascii\u001b[38;5;241m=\u001b[39m\u001b[38;5;28;01mFalse\u001b[39;00m))\n",
      "\u001b[0;31mTypeError\u001b[0m: 'generator' object is not subscriptable"
     ]
    }
   ],
   "source": [
    "print(json.dumps(data[:3], indent=4, ensure_ascii=False))\n"
   ]
  },
  {
   "cell_type": "code",
   "execution_count": null,
   "metadata": {},
   "outputs": [],
   "source": []
  }
 ],
 "metadata": {
  "kernelspec": {
   "display_name": "bori",
   "language": "python",
   "name": "python3"
  },
  "language_info": {
   "codemirror_mode": {
    "name": "ipython",
    "version": 3
   },
   "file_extension": ".py",
   "mimetype": "text/x-python",
   "name": "python",
   "nbconvert_exporter": "python",
   "pygments_lexer": "ipython3",
   "version": "3.10.15"
  }
 },
 "nbformat": 4,
 "nbformat_minor": 2
}
